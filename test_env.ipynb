{
 "cells": [
  {
   "cell_type": "code",
   "execution_count": 3,
   "id": "edea736c",
   "metadata": {},
   "outputs": [],
   "source": [
    "import pydp"
   ]
  },
  {
   "cell_type": "code",
   "execution_count": 4,
   "id": "14bee944",
   "metadata": {},
   "outputs": [],
   "source": [
    "d = pydp.distributions.LaplaceDistribution(epsilon=.1, sensitivity=10)"
   ]
  },
  {
   "cell_type": "code",
   "execution_count": 11,
   "id": "76adeaea",
   "metadata": {},
   "outputs": [],
   "source": [
    "import findspark\n",
    "findspark.init()"
   ]
  },
  {
   "cell_type": "code",
   "execution_count": null,
   "id": "baa67040",
   "metadata": {},
   "outputs": [],
   "source": [
    "import pyspark"
   ]
  },
  {
   "cell_type": "code",
   "execution_count": null,
   "id": "6e15a93f",
   "metadata": {},
   "outputs": [],
   "source": []
  }
 ],
 "metadata": {
  "kernelspec": {
   "display_name": "env",
   "language": "python",
   "name": "env"
  },
  "language_info": {
   "codemirror_mode": {
    "name": "ipython",
    "version": 3
   },
   "file_extension": ".py",
   "mimetype": "text/x-python",
   "name": "python",
   "nbconvert_exporter": "python",
   "pygments_lexer": "ipython3",
   "version": "3.7.3"
  }
 },
 "nbformat": 4,
 "nbformat_minor": 5
}
