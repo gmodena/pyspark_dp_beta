{
 "cells": [
  {
   "cell_type": "markdown",
   "id": "abc3d2ae",
   "metadata": {},
   "source": [
    "To execute this jupyter notebook, you need to ssh into an analytics machine (I'm using stat1005) and kinit to access HDFS, following the guidelines laid out on wikitech at this page: https://wikitech.wikimedia.org/wiki/Analytics/Systems/Jupyter#Access"
   ]
  },
  {
   "cell_type": "markdown",
   "id": "62107489",
   "metadata": {},
   "source": [
    "Since I will be posting this on publicly on Github, I've made sure to clear all outputs that show individual actor signatures or pageviews. People running this notebook with proper access to WMF resources should be able to run all cells and see intermediate outputs as they like."
   ]
  },
  {
   "cell_type": "code",
   "execution_count": 3,
   "id": "432f85db",
   "metadata": {},
   "outputs": [],
   "source": [
    "import wmfdata\n",
    "from dataclasses import dataclass\n",
    "import numpy as np\n",
    "import random\n",
    "import math\n",
    "from IPython.display import Latex"
   ]
  },
  {
   "cell_type": "code",
   "execution_count": 9,
   "id": "661773cc",
   "metadata": {},
   "outputs": [
    {
     "name": "stderr",
     "output_type": "stream",
     "text": [
      "PySpark executors will use /usr/lib/anaconda-wmf/bin/python3.\n"
     ]
    }
   ],
   "source": [
    "spark = wmfdata.spark.get_session(type='yarn-large')\n",
    "# spark = wmfdata.spark.get_session()"
   ]
  },
  {
   "cell_type": "code",
   "execution_count": 1,
   "id": "7c351349",
   "metadata": {},
   "outputs": [
    {
     "ename": "NameError",
     "evalue": "name 'spark' is not defined",
     "output_type": "error",
     "traceback": [
      "\u001b[0;31m---------------------------------------------------------------------------\u001b[0m",
      "\u001b[0;31mNameError\u001b[0m                                 Traceback (most recent call last)",
      "\u001b[0;32m<ipython-input-1-b0586394b037>\u001b[0m in \u001b[0;36m<module>\u001b[0;34m\u001b[0m\n\u001b[0;32m----> 1\u001b[0;31m df = spark.sql(\"\"\"\n\u001b[0m\u001b[1;32m      2\u001b[0m \u001b[0mSELECT\u001b[0m\u001b[0;34m\u001b[0m\u001b[0;34m\u001b[0m\u001b[0m\n\u001b[1;32m      3\u001b[0m   \u001b[0mpageview_info\u001b[0m\u001b[0;34m[\u001b[0m\u001b[0;34m'page_title'\u001b[0m\u001b[0;34m]\u001b[0m \u001b[0;32mas\u001b[0m \u001b[0mpage_title\u001b[0m\u001b[0;34m,\u001b[0m\u001b[0;34m\u001b[0m\u001b[0;34m\u001b[0m\u001b[0m\n\u001b[1;32m      4\u001b[0m   \u001b[0mpage_id\u001b[0m\u001b[0;34m,\u001b[0m\u001b[0;34m\u001b[0m\u001b[0;34m\u001b[0m\u001b[0m\n\u001b[1;32m      5\u001b[0m   \u001b[0mpageview_info\u001b[0m\u001b[0;34m[\u001b[0m\u001b[0;34m'project'\u001b[0m\u001b[0;34m]\u001b[0m \u001b[0;32mas\u001b[0m \u001b[0mproject\u001b[0m\u001b[0;34m,\u001b[0m\u001b[0;34m\u001b[0m\u001b[0;34m\u001b[0m\u001b[0m\n",
      "\u001b[0;31mNameError\u001b[0m: name 'spark' is not defined"
     ]
    }
   ],
   "source": [
    "df = spark.sql(\"\"\"\n",
    "SELECT\n",
    "  pageview_info['page_title'] as page_title,\n",
    "  page_id,\n",
    "  pageview_info['project'] as project,\n",
    "  geocoded_data['country'] as country,\n",
    "  actor_signature\n",
    "FROM wmf.pageview_actor\n",
    "WHERE year = 2021 AND month = 8 AND day = 15 AND hour = 6 AND page_id IS NOT NULL\n",
    "\"\"\").rdd"
   ]
  },
  {
   "cell_type": "code",
   "execution_count": null,
   "id": "084dd1cf",
   "metadata": {},
   "outputs": [],
   "source": [
    "df.take(10)"
   ]
  },
  {
   "cell_type": "markdown",
   "id": "3dc047f3",
   "metadata": {},
   "source": [
    "This notebook is going to roughly follow along with the exercises in the two DP tutorials linked within OpenMined's PipelineDP github repo https://github.com/OpenMined/PipelineDP/blob/main/docs/tutorial_1/1_beam_introduction.ipynb, but adapt them to be in Spark rather than Beam."
   ]
  },
  {
   "cell_type": "code",
   "execution_count": 4,
   "id": "4423e712",
   "metadata": {},
   "outputs": [],
   "source": [
    "rdd = df.rdd"
   ]
  },
  {
   "cell_type": "code",
   "execution_count": 5,
   "id": "2bb44feb",
   "metadata": {},
   "outputs": [
    {
     "data": {
      "text/plain": [
       "25090951"
      ]
     },
     "execution_count": 5,
     "metadata": {},
     "output_type": "execute_result"
    }
   ],
   "source": [
    "# show total number of non-redirect pageviews from August 15 2021 0600 UTC\n",
    "rdd.count()"
   ]
  },
  {
   "cell_type": "code",
   "execution_count": 6,
   "id": "02d319af",
   "metadata": {},
   "outputs": [
    {
     "data": {
      "text/plain": [
       "5234767"
      ]
     },
     "execution_count": 6,
     "metadata": {},
     "output_type": "execute_result"
    }
   ],
   "source": [
    "# get distinct number of page ids to see how many pages were viewed\n",
    "page_id_rdd = rdd.map(lambda x: x.page_id)\n",
    "page_id_rdd = page_id_rdd.distinct()\n",
    "page_id_rdd.count()"
   ]
  },
  {
   "cell_type": "code",
   "execution_count": 7,
   "id": "1c60c0e2",
   "metadata": {},
   "outputs": [
    {
     "data": {
      "text/plain": [
       "8216201"
      ]
     },
     "execution_count": 7,
     "metadata": {},
     "output_type": "execute_result"
    }
   ],
   "source": [
    "# get distinct number of actor signatures to see how many people viewed pages\n",
    "actor_signature_rdd = rdd.map(lambda x: x.actor_signature)\n",
    "actor_signature_rdd = actor_signature_rdd.distinct()\n",
    "actor_signature_rdd.count()"
   ]
  },
  {
   "cell_type": "code",
   "execution_count": 8,
   "id": "3b935fc9",
   "metadata": {},
   "outputs": [
    {
     "data": {
      "text/plain": [
       "241"
      ]
     },
     "execution_count": 8,
     "metadata": {},
     "output_type": "execute_result"
    }
   ],
   "source": [
    "# get distinct number of countries people viewed pages from\n",
    "country_rdd = rdd.map(lambda x: x.country)\n",
    "country_rdd = country_rdd.distinct()\n",
    "country_rdd.count()"
   ]
  },
  {
   "cell_type": "code",
   "execution_count": 65,
   "id": "c0266c58",
   "metadata": {},
   "outputs": [
    {
     "data": {
      "text/plain": [
       "[(5929680, 7),\n",
       " (44274576, 1),\n",
       " (521472, 26271),\n",
       " (58800, 56),\n",
       " (31767072, 9),\n",
       " (8806032, 8),\n",
       " (39696, 100),\n",
       " (57813216, 1),\n",
       " (58551840, 4),\n",
       " (3242976, 1),\n",
       " (70224, 10),\n",
       " (26081616, 1),\n",
       " (48488880, 3),\n",
       " (256176, 20),\n",
       " (101184, 36),\n",
       " (12358992, 3),\n",
       " (173568, 22),\n",
       " (1227696, 701),\n",
       " (177840, 369),\n",
       " (44486544, 38182),\n",
       " (403680, 5),\n",
       " (39626736, 20),\n",
       " (14078832, 1),\n",
       " (49680, 62),\n",
       " (24469200, 1)]"
      ]
     },
     "execution_count": 65,
     "metadata": {},
     "output_type": "execute_result"
    }
   ],
   "source": [
    "# get views per page (no differential privacy)\n",
    "page_count_rdd = rdd.map(lambda x: (x.page_id, 1))\n",
    "page_count_rdd = page_count_rdd.reduceByKey(lambda x, y: (x + y))\n",
    "\n",
    "page_count_rdd.take(25)"
   ]
  },
  {
   "cell_type": "code",
   "execution_count": 66,
   "id": "693c4567",
   "metadata": {},
   "outputs": [
    {
     "data": {
      "text/plain": [
       "[('Mexico', 279289),\n",
       " ('Ukraine', 221744),\n",
       " ('Ethiopia', 6278),\n",
       " ('Federated States of Micronesia', 89),\n",
       " ('Isle of Man', 594),\n",
       " ('Martinique', 614),\n",
       " ('United Arab Emirates', 58357),\n",
       " ('Egypt', 41435),\n",
       " ('Djibouti', 425),\n",
       " ('Bulgaria', 50488),\n",
       " ('Afghanistan', 4971),\n",
       " ('Saint Pierre and Miquelon', 5),\n",
       " ('Suriname', 333),\n",
       " ('Nigeria', 36259),\n",
       " ('Gabon', 580),\n",
       " ('Cyprus', 20860),\n",
       " ('Ghana', 5416),\n",
       " ('British Virgin Islands', 61),\n",
       " ('American Samoa', 89),\n",
       " ('Lithuania', 23774),\n",
       " ('Dominica', 84),\n",
       " ('Sint Maarten', 49),\n",
       " ('Malta', 4317),\n",
       " ('Sierra Leone', 363),\n",
       " ('Vanuatu', 175)]"
      ]
     },
     "execution_count": 66,
     "metadata": {},
     "output_type": "execute_result"
    }
   ],
   "source": [
    "# get views per country (no differential privacy)\n",
    "country_count_rdd = rdd.map(lambda x: (x.country, 1))\n",
    "country_count_rdd = country_count_rdd.reduceByKey(lambda x, y: (x + y))\n",
    "\n",
    "country_count_rdd.take(25)"
   ]
  },
  {
   "cell_type": "code",
   "execution_count": 67,
   "id": "1507e333",
   "metadata": {},
   "outputs": [
    {
     "data": {
      "text/plain": [
       "[('uk.wikipedia', 93400),\n",
       " ('pl.wikipedia', 282118),\n",
       " ('ka.wikipedia', 15851),\n",
       " ('ta.wikipedia', 34023),\n",
       " ('ht.wikipedia', 1041),\n",
       " ('xal.wikipedia', 147),\n",
       " ('pa.wikipedia', 2401),\n",
       " ('ko.wikinews', 98),\n",
       " ('id.wikiquote', 190),\n",
       " ('nds.wiktionary', 222),\n",
       " ('ne.wiktionary', 202),\n",
       " ('ast.wiktionary', 312),\n",
       " ('bjn.wikipedia', 314),\n",
       " ('st.wiktionary', 25),\n",
       " ('csb.wiktionary', 20),\n",
       " ('zh.wikiquote', 1031),\n",
       " ('ml.wikisource', 788),\n",
       " ('nl.wiktionary', 8183),\n",
       " ('en.wikinews', 4612),\n",
       " ('new.wikipedia', 1091),\n",
       " ('lmo.wikipedia', 2708),\n",
       " ('zh-classical.wikipedia', 965),\n",
       " ('pfl.wikipedia', 141),\n",
       " ('pi.wikipedia', 93),\n",
       " ('xh.wikipedia', 139)]"
      ]
     },
     "execution_count": 67,
     "metadata": {},
     "output_type": "execute_result"
    }
   ],
   "source": [
    "# get views per project (no differential privacy)\n",
    "project_count_rdd = rdd.map(lambda x: (x.project, 1))\n",
    "project_count_rdd = project_count_rdd.reduceByKey(lambda x, y: (x + y))\n",
    "\n",
    "project_count_rdd.take(25)"
   ]
  },
  {
   "cell_type": "code",
   "execution_count": null,
   "id": "a7b9d295",
   "metadata": {},
   "outputs": [],
   "source": [
    "# get views per (project, country, page) (no differential privacy)\n",
    "tuple_count_rdd = rdd.map(lambda x: ((x.project, x.country, x.page_id), 1))\n",
    "tuple_count_rdd = tuple_count_rdd.reduceByKey(lambda x, y: (x + y))\n",
    "\n",
    "tuple_count_rdd.take(25)"
   ]
  },
  {
   "cell_type": "code",
   "execution_count": null,
   "id": "075941e4",
   "metadata": {},
   "outputs": [],
   "source": [
    "# bound total contributions per actor signature to n\n",
    "n = 10\n",
    "\n",
    "# rekey to actor signature\n",
    "# (actor_signature, pageview)\n",
    "bounded_views_per_user_rdd = rdd.map(lambda x: (x.actor_signature, [x]))\n",
    "\n",
    "# randomly get a set of at most `n` pageviews for each actor signature\n",
    "# (actor_signature, [pageview])\n",
    "bounded_views_per_user_rdd = bounded_views_per_user_rdd.reduceByKey(lambda x, y: random.sample(x + y, min(len(x) + len(y), n)))\n",
    "\n",
    "# drop actor signature as key\n",
    "# ([pageview])\n",
    "bounded_views_per_user_rdd = bounded_views_per_user_rdd.map(lambda x: x[1])\n",
    "\n",
    "# unnest lists of pageviews using a flatmap\n",
    "# (pageview)\n",
    "bounded_views_per_user_rdd = bounded_views_per_user_rdd.flatMap(lambda x: x)\n",
    "\n",
    "bounded_views_per_user_rdd.take(25)"
   ]
  },
  {
   "cell_type": "code",
   "execution_count": null,
   "id": "262587e8",
   "metadata": {},
   "outputs": [],
   "source": [
    "# bound contributions per partition (in this case, per page) and per actor signature\n",
    "\n",
    "# total contributions (aka sensitivity) = max_per_partition * max_partitions\n",
    "max_partitions = 5    # say that users can visit at most 5 pages\n",
    "max_per_partition = 2 # and for each page they can contribute at most 2 pageviews\n",
    "\n",
    "# rekey to a tuple of (actor signature, page id)\n",
    "# ((actor_signature, page_id), pageview)\n",
    "bounded_views_per_partition_rdd = rdd.map(lambda x: ((x.actor_signature, x.page_id), [x]))\n",
    "\n",
    "# randomly get a set of at most `max_per_partition` pageviews for each (actor signature, page id) tuple\n",
    "# ((actor_signature, page_id), [pageview]) {max length of max_per_partition}\n",
    "bounded_views_per_partition_rdd = bounded_views_per_partition_rdd.reduceByKey(lambda x, y: random.sample(x + y, min(len(x) + len(y), max_per_partition)))\n",
    "\n",
    "# rekey to just actor signature\n",
    "# (actor_signature, [pageview]) {with redundancies}\n",
    "bounded_views_per_partition_rdd = bounded_views_per_partition_rdd.map(lambda x: ((x[0][0], x[1])))\n",
    "\n",
    "# randomly get a set of at most `max_partitions` sets of pageviews for each actor signature\n",
    "# (actor_signature, [pageview]) {max length of max_per_partition * max_partitions}\n",
    "bounded_views_per_partition_rdd = bounded_views_per_partition_rdd.reduceByKey(lambda x, y: random.sample(x + y, min(len(x) + len(y), max_partitions)))\n",
    "\n",
    "# drop actor signature as key\n",
    "# ([pageview])\n",
    "bounded_views_per_partition_rdd = bounded_views_per_partition_rdd.map(lambda x: x[1])\n",
    "\n",
    "# unnest lists of pageviews using a flatmap\n",
    "# (pageview)\n",
    "bounded_views_per_partition_rdd = bounded_views_per_partition_rdd.flatMap(lambda x: x)\n",
    "\n",
    "bounded_views_per_partition_rdd.take(25)"
   ]
  },
  {
   "cell_type": "code",
   "execution_count": 33,
   "id": "9559442c",
   "metadata": {},
   "outputs": [],
   "source": [
    "# add laplace noise to a single number\n",
    "def add_laplace_noise(x, eps, sensitivity):\n",
    "    scale = sensitivity / eps\n",
    "    return x + np.random.laplace(scale)\n",
    "\n",
    "# add laplace noise to a spark rdd\n",
    "def add_laplace_noise_to_rdd(rdd, eps, max_partitions, max_per_partition):\n",
    "    eps_per_partition = eps / max_partitions\n",
    "    sensitivity_per_partition = max_per_partition\n",
    "    return rdd.map(lambda x: (x[0], add_laplace_noise(x[1], eps_per_partition, sensitivity_per_partition)))"
   ]
  },
  {
   "cell_type": "markdown",
   "id": "5933bb17",
   "metadata": {},
   "source": [
    "Now we want to calculate a threshold below which we drop data. Given delta (i.e. the probability that we unwittingly release private data), we need to figure out a threshold to drop data beneath such that:"
   ]
  },
  {
   "cell_type": "code",
   "execution_count": 3,
   "id": "b3a1900b",
   "metadata": {},
   "outputs": [
    {
     "data": {
      "text/latex": [
       "\\begin{align}\n",
       "  Pr[1 + laplace(\\frac{sensitivity}{\\epsilon}) > threshold] <= \\delta\n",
       "\\end{align}\n"
      ],
      "text/plain": [
       "<IPython.core.display.Latex object>"
      ]
     },
     "metadata": {},
     "output_type": "display_data"
    }
   ],
   "source": [
    "%%latex\n",
    "\\begin{align}\n",
    "  Pr[1 + laplace(\\frac{sensitivity}{\\epsilon}) > threshold] <= \\delta\n",
    "\\end{align}"
   ]
  },
  {
   "cell_type": "markdown",
   "id": "25a1184a",
   "metadata": {},
   "source": [
    "Intuition for this step explained in this blog post: https://desfontain.es/privacy/almost-differential-privacy.html\n",
    "\n",
    "\n",
    "The PDF of the Laplace mechanism is:"
   ]
  },
  {
   "cell_type": "code",
   "execution_count": 26,
   "id": "dadc0ac5",
   "metadata": {},
   "outputs": [
    {
     "data": {
      "text/latex": [
       "\\begin{align}\n",
       "    f(x | \\mu, b) = \\frac{1}{2b} \\exp(-\\frac{|x - \\mu|}{b}).\n",
       "\\end{align}\n"
      ],
      "text/plain": [
       "<IPython.core.display.Latex object>"
      ]
     },
     "metadata": {},
     "output_type": "display_data"
    }
   ],
   "source": [
    "%%latex\n",
    "\\begin{align}\n",
    "    f(x | \\mu, b) = \\frac{1}{2b} \\exp(-\\frac{|x - \\mu|}{b}).\n",
    "\\end{align}"
   ]
  },
  {
   "cell_type": "markdown",
   "id": "e77ebc37",
   "metadata": {},
   "source": [
    "Since we are always centering our Laplace mechanism on 0, we can drop the 𝜇 argument, and since in this case we are strictly concerned with values of x > 0 (we want to ensure that we rarely *add* enough noise so as to make articles with only 1 pageview go above the threshold), we can also drop the absolute value.\n",
    "  \n",
    "That gives us:"
   ]
  },
  {
   "cell_type": "code",
   "execution_count": 27,
   "id": "df4324ed",
   "metadata": {},
   "outputs": [
    {
     "data": {
      "text/latex": [
       "\\begin{align}\n",
       "    f(x | b) = \\frac{1}{2b} \\exp(-\\frac{x}{b})\n",
       "\\end{align}\n"
      ],
      "text/plain": [
       "<IPython.core.display.Latex object>"
      ]
     },
     "metadata": {},
     "output_type": "display_data"
    }
   ],
   "source": [
    "%%latex\n",
    "\\begin{align}\n",
    "    f(x | b) = \\frac{1}{2b} \\exp(-\\frac{x}{b})\n",
    "\\end{align}"
   ]
  },
  {
   "cell_type": "markdown",
   "id": "b0a08cd8",
   "metadata": {},
   "source": [
    "where b is the scale of the Laplace noise. In our case, scale = sensitivity / epsilon. Now, for some scale b and a probability delta, we are trying to solve for x such that:"
   ]
  },
  {
   "cell_type": "code",
   "execution_count": 32,
   "id": "c1a45a24",
   "metadata": {},
   "outputs": [
    {
     "data": {
      "text/latex": [
       "\\begin{align}\n",
       "    \\delta = \\frac{1}{2b} \\exp(-\\frac{x}{b}) \\\\\n",
       "    2b\\delta = \\exp(-\\frac{x}{b}) \\\\\n",
       "    \\ln(2b\\delta) = -\\frac{x}{b} \\\\\n",
       "    -b \\ln(2b\\delta) = x\n",
       "\\end{align}\n"
      ],
      "text/plain": [
       "<IPython.core.display.Latex object>"
      ]
     },
     "metadata": {},
     "output_type": "display_data"
    }
   ],
   "source": [
    "%%latex\n",
    "\\begin{align}\n",
    "    \\delta = \\frac{1}{2b} \\exp(-\\frac{x}{b}) \\\\\n",
    "    2b\\delta = \\exp(-\\frac{x}{b}) \\\\\n",
    "    \\ln(2b\\delta) = -\\frac{x}{b} \\\\\n",
    "    -b \\ln(2b\\delta) = x\n",
    "\\end{align}"
   ]
  },
  {
   "cell_type": "markdown",
   "id": "8a9a4dde",
   "metadata": {},
   "source": [
    "We can set both delta and b (indirectly through sensitivity and epsilon), allowing us to calculate x. We do that below."
   ]
  },
  {
   "cell_type": "code",
   "execution_count": 34,
   "id": "de50fe30",
   "metadata": {},
   "outputs": [],
   "source": [
    "def calculate_threshold(delta, eps, max_partitions, max_per_partition):\n",
    "    eps_per_partition = eps / max_partitions\n",
    "    sensitivity_per_partition = max_per_partition\n",
    "    b = sensitivity_per_partition / eps_per_partition\n",
    "    return -b * math.log(2 * b * delta)"
   ]
  },
  {
   "cell_type": "code",
   "execution_count": 92,
   "id": "ec628644",
   "metadata": {},
   "outputs": [
    {
     "data": {
      "text/plain": [
       "[(('en.wikipedia', 'United States', 15580374, 'Main_Page'), 49280.0),\n",
       " (('de.wikipedia', 'Germany', 5248757, 'Wikipedia:Hauptseite'), 24415.0),\n",
       " (('ja.wikipedia', 'Japan', 253348, 'メインページ'), 24251.0),\n",
       " (('en.wikipedia', 'India', 15580374, 'Main_Page'), 16164.0),\n",
       " (('en.wikipedia', 'United Kingdom', 15580374, 'Main_Page'), 13112.0),\n",
       " (('fr.wikipedia', 'Russia', 1034876, 'Questionnaire'), 11549.0),\n",
       " (('ja.wikipedia', 'Japan', 3093109, 'ジャッキー・ウー'), 11468.0),\n",
       " (('fr.wikipedia', 'France', 10635368, 'Wikipédia:Accueil_principal'),\n",
       "  10308.0),\n",
       " (('en.wikipedia', 'India', 3349824, 'Vikram_Batra'), 9991.0),\n",
       " (('ja.wikipedia', 'Japan', 2069252, '鍛治舎巧'), 9677.0),\n",
       " (('it.wikipedia', 'Italy', 665216, \"Gianfranco_D'Angelo\"), 9573.0),\n",
       " (('ja.wikipedia', 'Japan', 303551, '馬淵史郎'), 8409.0),\n",
       " (('en.wikipedia', 'India', 2499568, 'Independence_Day_(India)'), 8218.0),\n",
       " (('en.wikipedia', 'Australia', 15580374, 'Main_Page'), 7957.0),\n",
       " (('en.wikipedia', 'Iran', 15580374, 'Main_Page'), 7932.0),\n",
       " (('ja.wikipedia', 'Japan', 1535394, '万朶隊'), 7561.0),\n",
       " (('en.wikipedia', 'Brazil', 44486544, '2015_in_British_television'), 7473.0),\n",
       " (('it.wikipedia', 'Italy', 445746, 'Ferragosto'), 7460.0),\n",
       " (('en.wikipedia', 'Brazil', 52925867, '2018_in_American_television'), 7417.0),\n",
       " (('en.wikipedia',\n",
       "   'Brazil',\n",
       "   46230181,\n",
       "   'Saudi_Arabian-led_intervention_in_Yemen'),\n",
       "  7396.0),\n",
       " (('en.wikipedia',\n",
       "   'Brazil',\n",
       "   54266373,\n",
       "   'Special_Counsel_investigation_(2017–2019)'),\n",
       "  7381.0),\n",
       " (('en.wikipedia',\n",
       "   'Brazil',\n",
       "   38892181,\n",
       "   'List_of_United_States_counties_and_county_equivalents'),\n",
       "  7364.0),\n",
       " (('en.wikipedia',\n",
       "   'Brazil',\n",
       "   56207055,\n",
       "   'List_of_2010s_deaths_in_rock_and_roll'),\n",
       "  7343.0),\n",
       " (('en.wikipedia', 'Brazil', 4848272, 'Donald_Trump'), 7332.0),\n",
       " (('en.wikipedia', 'Brazil', 48969854, '2017_in_American_television'), 7326.0),\n",
       " (('en.wikipedia', 'Brazil', 48980006, '2016_in_aviation'), 7320.0),\n",
       " (('en.wikipedia',\n",
       "   'Brazil',\n",
       "   57590513,\n",
       "   \"2015–16_ISU_World_Standings_and_Season's_World_Ranking\"),\n",
       "  7299.0),\n",
       " (('en.wikipedia',\n",
       "   'Brazil',\n",
       "   55175661,\n",
       "   'List_of_2018–19_Super_Rugby_transfers'),\n",
       "  7274.0),\n",
       " (('en.wikipedia',\n",
       "   'Brazil',\n",
       "   54115568,\n",
       "   'Timeline_of_Russian_interference_in_the_2016_United_States_elections'),\n",
       "  7270.0),\n",
       " (('en.wikipedia',\n",
       "   'Brazil',\n",
       "   15910,\n",
       "   'List_of_compositions_by_Johann_Sebastian_Bach'),\n",
       "  7258.0),\n",
       " (('en.wikipedia', 'Brazil', 50034356, 'Panama_Papers'), 7240.0),\n",
       " (('en.wikipedia',\n",
       "   'Brazil',\n",
       "   4644339,\n",
       "   'List_of_United_States_Representatives_from_New_York'),\n",
       "  7196.0),\n",
       " (('en.wikipedia', 'Brazil', 9087364, 'Islamic_State_of_Iraq_and_the_Levant'),\n",
       "  7180.0),\n",
       " (('en.wikipedia', 'Brazil', 236034, 'List_of_municipalities_in_Michigan'),\n",
       "  7177.0),\n",
       " (('en.wikipedia', 'Brazil', 55547578, '2018_in_arthropod_paleontology'),\n",
       "  7133.0),\n",
       " (('en.wikipedia',\n",
       "   'Philippines',\n",
       "   54266373,\n",
       "   'Special_Counsel_investigation_(2017–2019)'),\n",
       "  6650.0),\n",
       " (('en.wikipedia',\n",
       "   'Philippines',\n",
       "   57590513,\n",
       "   \"2015–16_ISU_World_Standings_and_Season's_World_Ranking\"),\n",
       "  6634.0),\n",
       " (('en.wikipedia',\n",
       "   'Philippines',\n",
       "   54115568,\n",
       "   'Timeline_of_Russian_interference_in_the_2016_United_States_elections'),\n",
       "  6575.0),\n",
       " (('en.wikipedia',\n",
       "   'Philippines',\n",
       "   236034,\n",
       "   'List_of_municipalities_in_Michigan'),\n",
       "  6567.0),\n",
       " (('en.wikipedia', 'Philippines', 48969854, '2017_in_American_television'),\n",
       "  6548.0),\n",
       " (('en.wikipedia', 'Philippines', 4848272, 'Donald_Trump'), 6534.0),\n",
       " (('en.wikipedia',\n",
       "   'Philippines',\n",
       "   4644339,\n",
       "   'List_of_United_States_Representatives_from_New_York'),\n",
       "  6520.0),\n",
       " (('en.wikipedia',\n",
       "   'Philippines',\n",
       "   56207055,\n",
       "   'List_of_2010s_deaths_in_rock_and_roll'),\n",
       "  6508.0),\n",
       " (('en.wikipedia', 'Philippines', 50034356, 'Panama_Papers'), 6489.0),\n",
       " (('en.wikipedia', 'Philippines', 55547578, '2018_in_arthropod_paleontology'),\n",
       "  6483.0),\n",
       " (('en.wikipedia', 'Philippines', 44486544, '2015_in_British_television'),\n",
       "  6462.0),\n",
       " (('en.wikipedia',\n",
       "   'Philippines',\n",
       "   15910,\n",
       "   'List_of_compositions_by_Johann_Sebastian_Bach'),\n",
       "  6462.0),\n",
       " (('en.wikipedia',\n",
       "   'Philippines',\n",
       "   38892181,\n",
       "   'List_of_United_States_counties_and_county_equivalents'),\n",
       "  6449.0),\n",
       " (('en.wikipedia', 'Philippines', 52925867, '2018_in_American_television'),\n",
       "  6445.0),\n",
       " (('en.wikipedia',\n",
       "   'Philippines',\n",
       "   9087364,\n",
       "   'Islamic_State_of_Iraq_and_the_Levant'),\n",
       "  6444.0),\n",
       " (('en.wikipedia', 'Philippines', 48980006, '2016_in_aviation'), 6439.0),\n",
       " (('en.wikipedia',\n",
       "   'Philippines',\n",
       "   55175661,\n",
       "   'List_of_2018–19_Super_Rugby_transfers'),\n",
       "  6385.0),\n",
       " (('en.wikipedia',\n",
       "   'Philippines',\n",
       "   46230181,\n",
       "   'Saudi_Arabian-led_intervention_in_Yemen'),\n",
       "  6351.0),\n",
       " (('ru.wikipedia', 'Russia', 4401, 'Заглавная_страница'), 6134.0),\n",
       " (('it.wikipedia', 'Italy', 521472, 'Pagina_principale'), 6057.0),\n",
       " (('ja.wikipedia', 'Japan', 509898, '富永恭次'), 5898.0),\n",
       " (('en.wikipedia', 'India', 4102537, 'Nayanthara'), 4832.0),\n",
       " (('ja.wikipedia', 'Japan', 2779254, '吉村由美'), 4726.0),\n",
       " (('ja.wikipedia', 'Japan', 2779257, '大貫亜美'), 4600.0),\n",
       " (('zh.wikipedia', 'Taiwan', 6836331, '斯卡羅_(電視劇)'), 4558.0),\n",
       " (('zh.wikipedia', 'United States', 3597889, 'Wikipedia:首页'), 4516.0),\n",
       " (('en.wikipedia', 'Canada', 15580374, 'Main_Page'), 4490.0),\n",
       " (('ja.wikipedia', 'Japan', 2593279, 'DaiGo'), 4241.0),\n",
       " (('it.wikipedia', 'Italy', 1603963, 'Assunzione_di_Maria'), 4016.0),\n",
       " (('en.wikipedia', 'India', 60318741, 'Bhuj:_The_Pride_of_India'), 3972.0),\n",
       " (('ja.wikipedia', 'Japan', 22741, '終戦の日'), 3751.0),\n",
       " (('es.wikipedia', 'United States', 2271189, 'Wikipedia:Portada'), 3743.0),\n",
       " (('en.wikipedia', 'India', 60600284, 'Shershaah'), 3714.0),\n",
       " (('ja.wikipedia', 'Japan', 540351, '明徳義塾中学校・高等学校'), 3683.0),\n",
       " (('ru.wikipedia', 'United States', 4401, 'Заглавная_страница'), 3533.0),\n",
       " (('ja.wikipedia', 'Japan', 1661411, '第4飛行師団_(日本軍)'), 3526.0),\n",
       " (('sv.wikipedia', 'Sweden', 902605, 'Portal:Huvudsida'), 3484.0),\n",
       " (('en.wikipedia', 'South Africa', 15580374, 'Main_Page'), 3455.0),\n",
       " (('de.wikipedia', 'Germany', 5070, 'Taliban'), 3382.0),\n",
       " (('fr.wikipedia', 'United States', 10635368, 'Wikipédia:Accueil_principal'),\n",
       "  3381.0),\n",
       " (('ja.wikipedia', 'United States', 253348, 'メインページ'), 3371.0),\n",
       " (('en.wikipedia', 'India', 978203, 'Flag_of_India'), 3316.0),\n",
       " (('en.wikipedia', 'United States', 41109403, 'Attacks_on_parachutists'),\n",
       "  3289.0),\n",
       " (('de.wikipedia', 'United States', 5248757, 'Wikipedia:Hauptseite'), 3266.0),\n",
       " (('en.wikipedia', 'Germany', 15580374, 'Main_Page'), 3216.0),\n",
       " (('it.wikipedia', 'United States', 521472, 'Pagina_principale'), 3210.0),\n",
       " (('pt.wikipedia', 'United States', 952, 'Wikipédia:Página_principal'),\n",
       "  3157.0),\n",
       " (('en.wikipedia', 'India', 60827, 'Cleopatra'), 3085.0),\n",
       " (('en.wikipedia', 'United States', 49632909, 'The_Suicide_Squad_(film)'),\n",
       "  3080.0),\n",
       " (('it.wikipedia', 'Italy', 129532, 'Piera_Degli_Esposti'), 3059.0),\n",
       " (('en.wikipedia', 'United Arab Emirates', 15580374, 'Main_Page'), 3005.0),\n",
       " (('ja.wikipedia', 'Japan', 6657, 'PUFFY'), 2988.0),\n",
       " (('fa.wikipedia', 'Iran', 27859, 'طالبان'), 2968.0),\n",
       " (('en.wikipedia',\n",
       "   'India',\n",
       "   38892181,\n",
       "   'List_of_United_States_counties_and_county_equivalents'),\n",
       "  2888.0),\n",
       " (('fr.wikipedia', 'France', 37581, 'Assomption_de_Marie'), 2877.0),\n",
       " (('nl.wikipedia', 'Netherlands', 722, 'Hoofdpagina'), 2865.0),\n",
       " (('en.wikipedia',\n",
       "   'India',\n",
       "   46230181,\n",
       "   'Saudi_Arabian-led_intervention_in_Yemen'),\n",
       "  2862.0),\n",
       " (('en.wikipedia', 'India', 55547578, '2018_in_arthropod_paleontology'),\n",
       "  2855.0),\n",
       " (('en.wikipedia', 'India', 4848272, 'Donald_Trump'), 2853.0),\n",
       " (('en.wikipedia', 'India', 52925867, '2018_in_American_television'), 2851.0),\n",
       " (('en.wikipedia',\n",
       "   'India',\n",
       "   54266373,\n",
       "   'Special_Counsel_investigation_(2017–2019)'),\n",
       "  2846.0),\n",
       " (('en.wikipedia', 'India', 55175661, 'List_of_2018–19_Super_Rugby_transfers'),\n",
       "  2832.0),\n",
       " (('en.wikipedia', 'India', 44486544, '2015_in_British_television'), 2832.0),\n",
       " (('en.wikipedia', 'India', 30635, 'Taliban'), 2830.0),\n",
       " (('en.wikipedia', 'India', 9087364, 'Islamic_State_of_Iraq_and_the_Levant'),\n",
       "  2828.0),\n",
       " (('en.wikipedia',\n",
       "   'India',\n",
       "   15910,\n",
       "   'List_of_compositions_by_Johann_Sebastian_Bach'),\n",
       "  2824.0),\n",
       " (('en.wikipedia',\n",
       "   'India',\n",
       "   4644339,\n",
       "   'List_of_United_States_Representatives_from_New_York'),\n",
       "  2821.0),\n",
       " (('en.wikipedia', 'India', 56207055, 'List_of_2010s_deaths_in_rock_and_roll'),\n",
       "  2813.0),\n",
       " (('en.wikipedia', 'India', 50034356, 'Panama_Papers'), 2813.0),\n",
       " (('en.wikipedia', 'India', 48980006, '2016_in_aviation'), 2789.0),\n",
       " (('en.wikipedia',\n",
       "   'India',\n",
       "   54115568,\n",
       "   'Timeline_of_Russian_interference_in_the_2016_United_States_elections'),\n",
       "  2788.0),\n",
       " (('en.wikipedia', 'India', 236034, 'List_of_municipalities_in_Michigan'),\n",
       "  2783.0),\n",
       " (('es.wikipedia', 'Mexico', 2271189, 'Wikipedia:Portada'), 2776.0),\n",
       " (('en.wikipedia',\n",
       "   'India',\n",
       "   57590513,\n",
       "   \"2015–16_ISU_World_Standings_and_Season's_World_Ranking\"),\n",
       "  2773.0),\n",
       " (('en.wikipedia', 'India', 48969854, '2017_in_American_television'), 2756.0),\n",
       " (('ja.wikipedia', 'Japan', 4279901, 'コージ・トクダ'), 2676.0),\n",
       " (('fr.wikipedia', 'France', 391767, 'Annette_Messager'), 2604.0),\n",
       " (('en.wikipedia', 'India', 56280, 'Jana_Gana_Mana'), 2591.0),\n",
       " (('ja.wikipedia', 'Japan', 460326, '岐阜県立岐阜商業高等学校'), 2528.0),\n",
       " (('en.wikipedia', 'Pakistan', 15580374, 'Main_Page'), 2515.0),\n",
       " (('de.wikipedia', 'Switzerland', 5248757, 'Wikipedia:Hauptseite'), 2436.0),\n",
       " (('ja.wikipedia', 'Japan', 2826002, '唐橋ユミ'), 2400.0),\n",
       " (('de.wikipedia', 'Austria', 5248757, 'Wikipedia:Hauptseite'), 2396.0),\n",
       " (('it.wikipedia', 'Italy', 6125958, 'Tammy_Abraham'), 2381.0),\n",
       " (('es.wikipedia', 'Spain', 2271189, 'Wikipedia:Portada'), 2374.0),\n",
       " (('en.wikipedia', 'United States', 30635, 'Taliban'), 2355.0),\n",
       " (('en.wikipedia', 'Philippines', 15580374, 'Main_Page'), 2343.0),\n",
       " (('ja.wikipedia', 'Japan', 1145395, 'ジェリー藤尾'), 2319.0),\n",
       " (('pl.wikipedia', 'Poland', 2956678, 'Wikipedia:Strona_główna'), 2316.0),\n",
       " (('en.wikipedia', 'United Kingdom', 30635, 'Taliban'), 2235.0),\n",
       " (('en.wikipedia', 'Singapore', 15580374, 'Main_Page'), 2169.0),\n",
       " (('zh.wikipedia', 'Taiwan', 3597889, 'Wikipedia:首页'), 2133.0),\n",
       " (('ja.wikipedia', 'Japan', 3232590, 'ヘンダーソン_(お笑い)'), 2112.0),\n",
       " (('en.wikipedia',\n",
       "   'Mexico',\n",
       "   38892181,\n",
       "   'List_of_United_States_counties_and_county_equivalents'),\n",
       "  2060.0),\n",
       " (('en.wikipedia',\n",
       "   'Mexico',\n",
       "   4644339,\n",
       "   'List_of_United_States_Representatives_from_New_York'),\n",
       "  2058.0),\n",
       " (('ja.wikipedia', 'Japan', 238129, '今井ゆうぞう'), 2058.0),\n",
       " (('en.wikipedia',\n",
       "   'Mexico',\n",
       "   46230181,\n",
       "   'Saudi_Arabian-led_intervention_in_Yemen'),\n",
       "  2039.0),\n",
       " (('en.wikipedia', 'Mexico', 236034, 'List_of_municipalities_in_Michigan'),\n",
       "  2035.0),\n",
       " (('en.wikipedia', 'Mexico', 50034356, 'Panama_Papers'), 2031.0),\n",
       " (('en.wikipedia', 'Mexico', 48980006, '2016_in_aviation'), 2018.0),\n",
       " (('en.wikipedia',\n",
       "   'Mexico',\n",
       "   55175661,\n",
       "   'List_of_2018–19_Super_Rugby_transfers'),\n",
       "  2006.0),\n",
       " (('en.wikipedia',\n",
       "   'Mexico',\n",
       "   54266373,\n",
       "   'Special_Counsel_investigation_(2017–2019)'),\n",
       "  2005.0),\n",
       " (('en.wikipedia',\n",
       "   'Argentina',\n",
       "   54266373,\n",
       "   'Special_Counsel_investigation_(2017–2019)'),\n",
       "  1999.0),\n",
       " (('en.wikipedia', 'Mexico', 52925867, '2018_in_American_television'), 1990.0),\n",
       " (('en.wikipedia', 'Mexico', 55547578, '2018_in_arthropod_paleontology'),\n",
       "  1984.0),\n",
       " (('en.wikipedia',\n",
       "   'Argentina',\n",
       "   4644339,\n",
       "   'List_of_United_States_Representatives_from_New_York'),\n",
       "  1983.0),\n",
       " (('en.wikipedia', 'Mexico', 9087364, 'Islamic_State_of_Iraq_and_the_Levant'),\n",
       "  1981.0),\n",
       " (('en.wikipedia', 'Mexico', 44486544, '2015_in_British_television'), 1980.0),\n",
       " (('en.wikipedia',\n",
       "   'Argentina',\n",
       "   56207055,\n",
       "   'List_of_2010s_deaths_in_rock_and_roll'),\n",
       "  1975.0),\n",
       " (('en.wikipedia',\n",
       "   'Mexico',\n",
       "   56207055,\n",
       "   'List_of_2010s_deaths_in_rock_and_roll'),\n",
       "  1972.0),\n",
       " (('zh.wikipedia', 'Taiwan', 7301738, '俗女養成記2'), 1968.0),\n",
       " (('en.wikipedia',\n",
       "   'Mexico',\n",
       "   54115568,\n",
       "   'Timeline_of_Russian_interference_in_the_2016_United_States_elections'),\n",
       "  1967.0),\n",
       " (('ru.wikipedia', 'Russia', 71896, 'Талибан'), 1964.0),\n",
       " (('en.wikipedia',\n",
       "   'Argentina',\n",
       "   38892181,\n",
       "   'List_of_United_States_counties_and_county_equivalents'),\n",
       "  1961.0),\n",
       " (('en.wikipedia', 'Mexico', 48969854, '2017_in_American_television'), 1956.0),\n",
       " (('en.wikipedia', 'Argentina', 44486544, '2015_in_British_television'),\n",
       "  1956.0),\n",
       " (('en.wikipedia', 'Argentina', 55547578, '2018_in_arthropod_paleontology'),\n",
       "  1956.0),\n",
       " (('en.wikipedia', 'Mexico', 4848272, 'Donald_Trump'), 1953.0),\n",
       " (('en.wikipedia', 'Argentina', 50034356, 'Panama_Papers'), 1943.0),\n",
       " (('en.wikipedia',\n",
       "   'Argentina',\n",
       "   46230181,\n",
       "   'Saudi_Arabian-led_intervention_in_Yemen'),\n",
       "  1941.0),\n",
       " (('en.wikipedia', 'Argentina', 52925867, '2018_in_American_television'),\n",
       "  1941.0),\n",
       " (('en.wikipedia',\n",
       "   'Mexico',\n",
       "   57590513,\n",
       "   \"2015–16_ISU_World_Standings_and_Season's_World_Ranking\"),\n",
       "  1936.0),\n",
       " (('en.wikipedia',\n",
       "   'Argentina',\n",
       "   55175661,\n",
       "   'List_of_2018–19_Super_Rugby_transfers'),\n",
       "  1936.0),\n",
       " (('ja.wikipedia', 'Japan', 3571127, '東京卍リベンジャーズ'), 1935.0),\n",
       " (('en.wikipedia', 'Argentina', 48969854, '2017_in_American_television'),\n",
       "  1922.0),\n",
       " (('en.wikipedia', 'Argentina', 236034, 'List_of_municipalities_in_Michigan'),\n",
       "  1920.0),\n",
       " (('en.wikipedia',\n",
       "   'Argentina',\n",
       "   15910,\n",
       "   'List_of_compositions_by_Johann_Sebastian_Bach'),\n",
       "  1914.0),\n",
       " (('en.wikipedia',\n",
       "   'Argentina',\n",
       "   9087364,\n",
       "   'Islamic_State_of_Iraq_and_the_Levant'),\n",
       "  1910.0),\n",
       " (('en.wikipedia', 'Argentina', 48980006, '2016_in_aviation'), 1908.0),\n",
       " (('en.wikipedia',\n",
       "   'Mexico',\n",
       "   15910,\n",
       "   'List_of_compositions_by_Johann_Sebastian_Bach'),\n",
       "  1901.0),\n",
       " (('ja.wikipedia', 'Japan', 1613, '日本のいちばん長い日'), 1901.0),\n",
       " (('ml.wikipedia', 'India', 42375, 'ഒന്നാം_ഇന്ത്യൻ_സ്വാതന്ത്ര്യ_സമരം_(1857)'),\n",
       "  1887.0),\n",
       " (('en.wikipedia', 'India', 68273579, 'Bheemla_Nayak'), 1887.0),\n",
       " (('en.wikipedia',\n",
       "   'Argentina',\n",
       "   57590513,\n",
       "   \"2015–16_ISU_World_Standings_and_Season's_World_Ranking\"),\n",
       "  1884.0),\n",
       " (('it.wikipedia', 'Italy', 1340312, 'Gino_Strada'), 1884.0),\n",
       " (('en.wikipedia', 'Argentina', 4848272, 'Donald_Trump'), 1883.0),\n",
       " (('en.wikipedia',\n",
       "   'Argentina',\n",
       "   54115568,\n",
       "   'Timeline_of_Russian_interference_in_the_2016_United_States_elections'),\n",
       "  1869.0),\n",
       " (('fr.wikipedia', 'France', 8674, 'Haïti'), 1866.0),\n",
       " (('zh.wikipedia', 'Hong Kong', 594262, '破壞之王'), 1855.0),\n",
       " (('en.wikipedia', 'United Kingdom', 57379245, 'Incel'), 1836.0),\n",
       " (('zh.wikipedia', 'Taiwan', 23730, '海地'), 1832.0),\n",
       " (('ko.wikipedia', 'South Korea', 1579615, '더블랙레이블'), 1814.0),\n",
       " (('en.wikipedia', 'India', 1425939, 'Indian_Idol'), 1785.0),\n",
       " (('it.wikipedia', 'Italy', 65507, 'Talebani'), 1761.0),\n",
       " (('en.wikipedia', 'Sweden', 15580374, 'Main_Page'), 1751.0),\n",
       " (('ja.wikipedia', 'Japan', 5451, 'もののけ姫'), 1743.0),\n",
       " (('zh.wikipedia', 'Hong Kong', 3597889, 'Wikipedia:首页'), 1739.0),\n",
       " (('de.wikipedia', 'Germany', 154, 'Afghanistan'), 1721.0),\n",
       " (('ja.wikipedia', 'Japan', 456928, 'ノースアジア大学明桜高等学校'), 1721.0),\n",
       " (('en.wikipedia', 'United States', 60203476, 'Free_Guy'), 1720.0),\n",
       " (('en.wikipedia', 'Malaysia', 15580374, 'Main_Page'), 1705.0),\n",
       " (('ru.wikipedia', 'Russia', 80217, 'Новикова,_Клара_Борисовна'), 1684.0),\n",
       " (('it.wikipedia', 'Italy', 3363477, \"Daniela_D'Angelo\"), 1669.0),\n",
       " (('en.wikipedia', 'United States', 20646122, 'Index.html'), 1664.0),\n",
       " (('en.wikipedia', 'India', 2488796, 'Republic_Day_(India)'), 1632.0),\n",
       " (('ja.wikipedia', 'Japan', 3245938, '柴田阿弥'), 1630.0),\n",
       " (('ko.wikipedia', 'South Korea', 27949, '광복절'), 1607.0),\n",
       " (('ja.wikipedia', 'Japan', 81004, '河野景子'), 1601.0),\n",
       " (('ja.wikipedia', 'Japan', 43815, '梅田えりか'), 1591.0),\n",
       " (('ja.wikipedia', 'Japan', 989912, '海原やすよ_ともこ'), 1582.0),\n",
       " (('ja.wikipedia', 'Japan', 780840, '松井秀喜5打席連続敬遠'), 1573.0),\n",
       " (('en.wikipedia', 'India', 803754, 'Kargil_War'), 1565.0),\n",
       " (('fi.wikipedia', 'Finland', 291, 'Wikipedia:Etusivu'), 1552.0),\n",
       " (('en.wikipedia', 'India', 14533, 'India'), 1551.0),\n",
       " (('ja.wikipedia', 'Japan', 62134, 'A級戦犯'), 1543.0)]"
      ]
     },
     "execution_count": 92,
     "metadata": {},
     "output_type": "execute_result"
    }
   ],
   "source": [
    "# do bounded DP count\n",
    "\n",
    "# total contributions (aka sensitivity) = max_per_partition * max_partitions\n",
    "max_partitions = 5    # say that users can visit at most 5 pages\n",
    "max_per_partition = 2 # and for each page they can contribute at most 2 pageviews\n",
    "\n",
    "eps = 1\n",
    "delta = 5e-8\n",
    "\n",
    "# rekey to a tuple of (actor signature, page id)\n",
    "# ((actor_signature, page_id), pageview)\n",
    "dp_count_rdd = rdd.map(lambda x: ((x.actor_signature, x.page_id), [x]))\n",
    "\n",
    "# randomly get a set of at most `max_per_partition` pageviews for each (actor signature, page id) tuple\n",
    "# ((actor_signature, page_id), [pageview]) {max length of max_per_partition}\n",
    "dp_count_rdd = dp_count_rdd.reduceByKey(lambda x, y: random.sample(x + y, min(len(x) + len(y), max_per_partition)))\n",
    "\n",
    "# rekey to just actor signature\n",
    "# (actor_signature, [pageview]) {with redundancies}\n",
    "dp_count_rdd = dp_count_rdd.map(lambda x: ((x[0][0], x[1])))\n",
    "\n",
    "# randomly get a set of at most `max_partitions` sets of pageviews for each actor signature\n",
    "# (actor_signature, [pageview]) {max length of max_per_partition * max_partitions}\n",
    "dp_count_rdd = dp_count_rdd.reduceByKey(lambda x, y: random.sample(x + y, min(len(x) + len(y), max_partitions)))\n",
    "\n",
    "# drop actor signature as key\n",
    "# ([pageview])\n",
    "dp_count_rdd = dp_count_rdd.map(lambda x: x[1])\n",
    "\n",
    "# unnest lists of pageviews using a flatmap\n",
    "# (pageview)\n",
    "dp_count_rdd = dp_count_rdd.flatMap(lambda x: x)\n",
    "\n",
    "# now that contributions are bounded, count views per tuple\n",
    "dp_count_rdd = dp_count_rdd.map(lambda x: ((x.project, x.country, x.page_id, x.page_title), 1))\n",
    "dp_count_rdd = dp_count_rdd.reduceByKey(lambda x, y: (x + y))\n",
    "\n",
    "# add laplace noise to counts\n",
    "dp_count_rdd = add_laplace_noise_to_rdd(dp_count_rdd, eps, max_partitions, max_per_partition)\n",
    "\n",
    "# filter tuples that have less than `min_number_of_views` views\n",
    "dp_count_rdd = dp_count_rdd.filter(lambda x: x[1] >= calculate_threshold(delta, eps, max_partitions, max_per_partition))\n",
    "\n",
    "# round view count to integers for readability\n",
    "dp_count_rdd = dp_count_rdd.map(lambda x: (x[0], round(x[1], 0)))\n",
    "\n",
    "dp_count_rdd.takeOrdered(200, key=lambda x: -x[1])"
   ]
  },
  {
   "cell_type": "code",
   "execution_count": 9,
   "id": "09091690",
   "metadata": {},
   "outputs": [],
   "source": [
    "from dp_accounting import accountant\n",
    "from dp_accounting import common"
   ]
  },
  {
   "cell_type": "code",
   "execution_count": 10,
   "id": "b0fe253d",
   "metadata": {},
   "outputs": [],
   "source": [
    "params = common.DifferentialPrivacyParameters(epsilon=0.1, delta=1e-7)"
   ]
  },
  {
   "cell_type": "code",
   "execution_count": null,
   "id": "9b4c0017",
   "metadata": {},
   "outputs": [],
   "source": [
    "accountant.get_smallest_laplace_noise(privacy_parameters=params,\n",
    "                                     num_queries=1,\n",
    "                                     sensitivity=5)"
   ]
  },
  {
   "cell_type": "code",
   "execution_count": null,
   "id": "2ceafe0a",
   "metadata": {},
   "outputs": [],
   "source": []
  }
 ],
 "metadata": {
  "kernelspec": {
   "display_name": "Python 3",
   "language": "python",
   "name": "python3"
  },
  "language_info": {
   "codemirror_mode": {
    "name": "ipython",
    "version": 3
   },
   "file_extension": ".py",
   "mimetype": "text/x-python",
   "name": "python",
   "nbconvert_exporter": "python",
   "pygments_lexer": "ipython3",
   "version": "3.7.6"
  }
 },
 "nbformat": 4,
 "nbformat_minor": 5
}
